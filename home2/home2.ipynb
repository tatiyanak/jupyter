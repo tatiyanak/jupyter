{
 "cells": [
  {
   "cell_type": "code",
   "execution_count": 25,
   "metadata": {},
   "outputs": [
    {
     "name": "stdout",
     "output_type": "stream",
     "text": [
      "Фразы равной длины\n"
     ]
    }
   ],
   "source": [
    "# Задача 1\n",
    "phrase_1 = 'Насколько проще было бы писать программы, если бы не заказчики'\n",
    "phrase_2 = 'Насколько проще было бы писать программы, если бы не заказчики'\n",
    "\n",
    "if len (phrase_1) > len (phrase_2):\n",
    "    print('Фраза 1 длиннее фразы 2')\n",
    "elif len (phrase_1) == len (phrase_2):\n",
    "    print('Фразы равной длины')\n",
    "else:\n",
    "    print('Фраза 2 длиннее фразы 1')\n",
    "    \n"
   ]
  },
  {
   "cell_type": "code",
   "execution_count": 31,
   "metadata": {},
   "outputs": [
    {
     "name": "stdout",
     "output_type": "stream",
     "text": [
      "Упаковка для лыж\n"
     ]
    }
   ],
   "source": [
    "# Задача 4\n",
    "width = 10\n",
    "length = 205\n",
    "height = 5\n",
    "if length > 200:\n",
    "    print ('Упаковка для лыж')\n",
    "elif width  < 15 and length < 15 and height < 15:\n",
    "    print ('Коробка №1')\n",
    "elif (15 < width < 50) or (15 < length < 50) or (15 < height < 50):\n",
    "    print ('Коробка №2')\n",
    "else:\n",
    "    print ('Стандартная коробка №3')\n",
    "    \n",
    "    "
   ]
  },
  {
   "cell_type": "code",
   "execution_count": 36,
   "metadata": {},
   "outputs": [
    {
     "name": "stdout",
     "output_type": "stream",
     "text": [
      "Введите год2024\n",
      "Високосный год\n"
     ]
    }
   ],
   "source": [
    "# Задача 2\n",
    "year = int(input('Введите год'))\n",
    "if year % 4 == 0:\n",
    "    print ('Високосный год')   \n",
    "else:\n",
    "    print('Обычный год')\n",
    "    \n"
   ]
  },
  {
   "cell_type": "code",
   "execution_count": 70,
   "metadata": {},
   "outputs": [
    {
     "name": "stdout",
     "output_type": "stream",
     "text": [
      "Дата рождения:0\n",
      "Месяц:май\n"
     ]
    }
   ],
   "source": [
    "# Задача 3\n",
    "day = int(input('Дата рождения:'))\n",
    "month = str(input('Месяц:'))\n",
    "if day > 0:\n",
    "    if (20 <= day <= 31 and month == 'март') or (day <= 19 and month == 'апрель'):\n",
    "        print ('Овен')\n",
    "    elif (20 <= day <= 30 and month == 'апрель') or (day <= 20 and month == 'май'):\n",
    "        print ('Телец')\n",
    "    elif (21 <= day <= 31 and month == 'май') or (day <= 20 and month == 'июнь'):\n",
    "        print ('Близнецы')              \n",
    "    elif (21 <= day <= 30 and month == 'июнь') or (day <= 21 and month == 'июль'): \n",
    "        print ('Рак')              \n",
    "    elif (22 <= day <= 31 and month == 'июль') or (day <= 22 and month == 'август'):\n",
    "        print ('Лев')             \n",
    "    elif (23 <= day <= 31 and month == 'август') or (day <= 21 and month == 'сентябрь'):\n",
    "        print ('Дева')             \n",
    "    elif (22 <= day <= 30 and month == 'сентябрь') or (day <= 21 and month == 'октябрь'):\n",
    "        print ('Весы')               \n",
    "    elif (22 <= day <= 31 and month == 'октябрь') or (day <= 20 and month == 'ноябрь'):\n",
    "        print ('Скорпион')             \n",
    "    elif (21 <= day <= 30 and month == 'ноябрь') or (day <= 20 and month == 'декабрь'):\n",
    "        print ('Стрелец')              \n",
    "    elif (21 <= day <= 31 and month == 'декабрь') or (day <= 19 and month == 'январь'):\n",
    "        print ('Козерог')               \n",
    "    elif (20 <= day <= 31 and month == 'январь') or (day <= 18 and month == 'февраль'):\n",
    "        print ('Водолей')              \n",
    "    elif (19 <= day <= 29 and month == 'февраль') or (day <= 19 and month == 'март'):\n",
    "        print ('Рыбы')\n",
    "        "
   ]
  }
 ],
 "metadata": {
  "kernelspec": {
   "display_name": "Python 3",
   "language": "python",
   "name": "python3"
  },
  "language_info": {
   "codemirror_mode": {
    "name": "ipython",
    "version": 3
   },
   "file_extension": ".py",
   "mimetype": "text/x-python",
   "name": "python",
   "nbconvert_exporter": "python",
   "pygments_lexer": "ipython3",
   "version": "3.8.3"
  }
 },
 "nbformat": 4,
 "nbformat_minor": 4
}
