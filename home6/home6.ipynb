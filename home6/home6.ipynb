{
 "cells": [
  {
   "cell_type": "code",
   "execution_count": 66,
   "metadata": {},
   "outputs": [],
   "source": [
    "# Задание 1\n",
    "import json\n",
    "\n",
    "with open('purchase_log.txt', encoding='utf8') as f:\n",
    "    result = {}\n",
    "    next(f)\n",
    "    for line in f:\n",
    "        line = line.strip()\n",
    "        dict_ = json.loads(line)\n",
    "        key = dict_['user_id']\n",
    "        value = dict_['category']\n",
    "        result[key] = value\n",
    "\n",
    "\n"
   ]
  },
  {
   "cell_type": "code",
   "execution_count": 91,
   "metadata": {},
   "outputs": [],
   "source": [
    "# Задание 2\n",
    "import json\n",
    "\n",
    "with open('purchase_log.txt', encoding='utf8') as f1:\n",
    "\n",
    "    purchases = {}\n",
    "    \n",
    "    content = f1.readlines()\n",
    "    for el in content[1:]:\n",
    "        line = el.strip()\n",
    "        dict_ = json.loads(line)\n",
    "        key = dict_['user_id']\n",
    "        value = dict_['category']\n",
    "        purchases[key] = value\n",
    "\n",
    "    with open('visit_log.csv') as f2:\n",
    "        next(f2)\n",
    "        \n",
    "        with open('funnel.csv', 'w', encoding='utf8') as res:\n",
    "            res.write('user_id,source,category\\n')\n",
    "\n",
    "            for line in f2:\n",
    "                line = line.strip().split(',')\n",
    "                \n",
    "                user_id, source = line\n",
    "                category = purchases.get(user_id)\n",
    "                \n",
    "                if category is not None:\n",
    "                    res.write(f'{user_id},{source},{category}\\n')\n"
   ]
  }
 ],
 "metadata": {
  "kernelspec": {
   "display_name": "Python 3",
   "language": "python",
   "name": "python3"
  },
  "language_info": {
   "codemirror_mode": {
    "name": "ipython",
    "version": 3
   },
   "file_extension": ".py",
   "mimetype": "text/x-python",
   "name": "python",
   "nbconvert_exporter": "python",
   "pygments_lexer": "ipython3",
   "version": "3.8.3"
  }
 },
 "nbformat": 4,
 "nbformat_minor": 4
}
