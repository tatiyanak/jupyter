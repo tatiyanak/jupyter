{
 "cells": [
  {
   "cell_type": "code",
   "execution_count": 47,
   "metadata": {},
   "outputs": [
    {
     "data": {
      "text/html": [
       "<div>\n",
       "<style scoped>\n",
       "    .dataframe tbody tr th:only-of-type {\n",
       "        vertical-align: middle;\n",
       "    }\n",
       "\n",
       "    .dataframe tbody tr th {\n",
       "        vertical-align: top;\n",
       "    }\n",
       "\n",
       "    .dataframe thead th {\n",
       "        text-align: right;\n",
       "    }\n",
       "</style>\n",
       "<table border=\"1\" class=\"dataframe\">\n",
       "  <thead>\n",
       "    <tr style=\"text-align: right;\">\n",
       "      <th></th>\n",
       "      <th>movieId</th>\n",
       "      <th>rating</th>\n",
       "      <th>title</th>\n",
       "    </tr>\n",
       "  </thead>\n",
       "  <tbody>\n",
       "    <tr>\n",
       "      <th>0</th>\n",
       "      <td>318</td>\n",
       "      <td>153</td>\n",
       "      <td>Shawshank Redemption, The (1994)</td>\n",
       "    </tr>\n",
       "  </tbody>\n",
       "</table>\n",
       "</div>"
      ],
      "text/plain": [
       "   movieId  rating                             title\n",
       "0      318     153  Shawshank Redemption, The (1994)"
      ]
     },
     "execution_count": 47,
     "metadata": {},
     "output_type": "execute_result"
    }
   ],
   "source": [
    "# Определите какому фильму было выставлено больше всего оценок 5.0.\n",
    "\n",
    "import pandas as pd\n",
    "\n",
    "ratings = pd.read_csv('ml-latest-small/ratings.csv')\n",
    "movies = pd.read_csv('ml-latest-small/movies.csv')\n",
    "\n",
    "(ratings\n",
    "    .query('rating == 5.0')\n",
    "    .groupby('movieId')\n",
    "    .count()\n",
    "    .sort_values('rating', ascending=False)\n",
    "    .reset_index()\n",
    "    .merge(movies, on = 'movieId', how = 'left')[['movieId', 'rating', 'title']].head(1)\n",
    ")"
   ]
  },
  {
   "cell_type": "code",
   "execution_count": 103,
   "metadata": {},
   "outputs": [
    {
     "data": {
      "text/plain": [
       "164555.0"
      ]
     },
     "execution_count": 103,
     "metadata": {},
     "output_type": "execute_result"
    }
   ],
   "source": [
    "# По данным файла power.csv посчитайте суммарное потребление стран Прибалтики (Латвия, Литва и Эстония)\n",
    "# категорий 4, 12 и 21 за период с 2005 по 2010 года. Не учитывайте в расчетах отрицательные значения quantity.\n",
    "\n",
    "power = pd.read_csv('power.csv')\n",
    "\n",
    "filtered_countries = power[ ((power['category'] == 4) | (power['category'] == 12) | (power['category'] == 21))\n",
    "                           & ((power['year'] > 2005) & (power['year'] < 2010))\n",
    "                           & ((power['country'] == 'Latvia') | (power['country'] == 'Estonia') | (power['country'] == 'Lithuania'))\n",
    "                           & (power['quantity'] >= 0)\n",
    "                          ]\n",
    "\n",
    "filtered_countries['quantity'].sum()"
   ]
  },
  {
   "cell_type": "code",
   "execution_count": 63,
   "metadata": {},
   "outputs": [
    {
     "name": "stdout",
     "output_type": "stream",
     "text": [
      "[     0       1      2        3       4      5        6       7      8   \\\n",
      "0  ММВБ   2 843  -1,7%   Nasdaq  11 365   1,9%  Биткойн  10 660  -0,2%   \n",
      "1   РТС   1 144  -2,1%   S&P500   3 419   1,7%    Нефть     422   0,0%   \n",
      "2   Dow  28 303   1,9%  FTSE100   5 946  -0,1%   Золото   1 887   0,0%   \n",
      "\n",
      "        9       10    11  \n",
      "0  USD/RUB  780410  0,0%  \n",
      "1  EUR/RUB  918620  0,0%  \n",
      "2  EUR/USD   11771  0,0%  ]\n",
      "[    Unnamed: 0              Рубль  Предложение  Спрос  Предыдущее закрытие  \\\n",
      "0          NaN            GBP/RUB      1000574      -              1008480   \n",
      "1          NaN            EUR/RUB       909680      -               918475   \n",
      "2          NaN            USD/RUB       773590      -               780645   \n",
      "3          NaN            JPY/RUB        07296      -                07367   \n",
      "4          NaN            CNY/RUB       113914      -               114966   \n",
      "5          NaN            CHF/RUB       843372      -               851525   \n",
      "6          NaN               Евро  Предложение  Спрос  Предыдущее закрытие   \n",
      "7          NaN            EUR/USD        11760      -                11766   \n",
      "8          NaN            EUR/GBP        09092      -                09109   \n",
      "9          NaN            EUR/JPY      1246810      -              1246700   \n",
      "10         NaN            EUR/CHF        10785      -                10789   \n",
      "11         NaN         Доллар США  Предложение  Спрос  Предыдущее закрытие   \n",
      "12         NaN            USD/EUR        08504      -                08499   \n",
      "13         NaN            USD/GBP        07730      -                07741   \n",
      "14         NaN            USD/JPY      1060280      -              1059770   \n",
      "15         NaN            USD/CHF        09172      -                09170   \n",
      "16         NaN      Японская иена  Предложение  Спрос  Предыдущее закрытие   \n",
      "17         NaN    JPY/EUR (100:1)        08000      -                08000   \n",
      "18         NaN            JPY/GBP        00073      -                00073   \n",
      "19         NaN            JPY/USD        00094      -                00094   \n",
      "20         NaN    JPY/CHF (100:1)        08700      -                08700   \n",
      "21         NaN    Фунт стерлингов  Предложение  Спрос  Предыдущее закрытие   \n",
      "22         NaN            GBP/USD        12935      -                12916   \n",
      "23         NaN            GBP/JPY      1371459      -              1368843   \n",
      "24         NaN            GBP/EUR        10999      -                10980   \n",
      "25         NaN            GBP/CHF        11863      -                11845   \n",
      "26         NaN  Швейцарский франк  Предложение  Спрос  Предыдущее закрытие   \n",
      "27         NaN            GBP/CHF        11863      -                11845   \n",
      "28         NaN            EUR/CHF        10785      -                10789   \n",
      "29         NaN    JPY/CHF (100:1)        08700      -                08700   \n",
      "30         NaN            USD/CHF        09172      -                09170   \n",
      "31         NaN  Украинская гривна  Предложение  Спрос  Предыдущее закрытие   \n",
      "32         NaN            EUR/UAH       332060      -               333258   \n",
      "33         NaN            USD/UAH       282376      -               283250   \n",
      "34         NaN            CHF/UAH       307867      -               308955   \n",
      "35         NaN            GBP/UAH       365253      -               365902   \n",
      "\n",
      "          %  Абсолютное значение       Время  \n",
      "0   -0,78 %               -07906  08.10.2020  \n",
      "1   -0,96 %               -08795  08.10.2020  \n",
      "2   -0,90 %               -07055  08.10.2020  \n",
      "3   -0,97 %               -00072  08.10.2020  \n",
      "4   -0,92 %               -01052  08.10.2020  \n",
      "5   -0,96 %               -08153  08.10.2020  \n",
      "6         %  Абсолютное значение       Время  \n",
      "7   -0,05 %               -00006  08.10.2020  \n",
      "8   -0,19 %               -00017  08.10.2020  \n",
      "9    0,01 %                00110  08.10.2020  \n",
      "10  -0,04 %               -00004  08.10.2020  \n",
      "11        %  Абсолютное значение       Время  \n",
      "12   0,05 %                00004  08.10.2020  \n",
      "13  -0,14 %               -00011  08.10.2020  \n",
      "14   0,05 %                00510  08.10.2020  \n",
      "15   0,02 %                00002  08.10.2020  \n",
      "16        %  Абсолютное значение       Время  \n",
      "17   0,00 %                00000  08.10.2020  \n",
      "18  -0,19 %                00000  08.10.2020  \n",
      "19  -0,06 %                00000  08.10.2020  \n",
      "20  -0,03 %                00000  08.10.2020  \n",
      "21        %  Абсолютное значение       Время  \n",
      "22   0,15 %                00019  08.10.2020  \n",
      "23   0,19 %                02616  08.10.2020  \n",
      "24   0,17 %                00019  08.10.2020  \n",
      "25   0,15 %                00018  08.10.2020  \n",
      "26        %  Абсолютное значение       Время  \n",
      "27   0,15 %                00018  08.10.2020  \n",
      "28  -0,04 %               -00004  08.10.2020  \n",
      "29  -0,03 %                00000  08.10.2020  \n",
      "30   0,02 %                00002  08.10.2020  \n",
      "31        %  Абсолютное значение       Время  \n",
      "32  -0,36 %               -01198  08.10.2020  \n",
      "33  -0,31 %               -00875  08.10.2020  \n",
      "34  -0,35 %               -01088  08.10.2020  \n",
      "35  -0,18 %               -00650  08.10.2020  ]\n"
     ]
    }
   ],
   "source": [
    "# Выберите страницу любого сайта с табличными данными. Импортируйте таблицы в pandas dataframe.\n",
    "\n",
    "df1 = pd.read_html('https://www.finanz.ru/valyuty/v-realnom-vremeni', attrs = {'class': 'header_user_pricebox'}, encoding='utf-8')\n",
    "df2 = pd.read_html('https://www.finanz.ru/valyuty/v-realnom-vremeni', attrs = {'class': 'quote_list'}, encoding='utf-8')\n",
    "\n",
    "print(df1)\n",
    "print(df2)"
   ]
  }
 ],
 "metadata": {
  "kernelspec": {
   "display_name": "Python 3",
   "language": "python",
   "name": "python3"
  },
  "language_info": {
   "codemirror_mode": {
    "name": "ipython",
    "version": 3
   },
   "file_extension": ".py",
   "mimetype": "text/x-python",
   "name": "python",
   "nbconvert_exporter": "python",
   "pygments_lexer": "ipython3",
   "version": "3.8.3"
  }
 },
 "nbformat": 4,
 "nbformat_minor": 4
}
