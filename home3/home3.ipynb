{
 "cells": [
  {
   "cell_type": "code",
   "execution_count": null,
   "metadata": {},
   "outputs": [],
   "source": [
    "# Задание 1\n",
    "word = 'testing'\n",
    "l=len(word)\n",
    "i=int(l/2)\n",
    "    \n",
    "if l % 2 == 0:\n",
    "    print(word[i-1:i+1])\n",
    "else:\n",
    "    print(word[i])\n",
    "\n",
    "############\n",
    "\n",
    "i=int(len(word)/2)\n",
    "x=i-1+len(word) % 2\n",
    "y=i+1\n",
    "print(word[x:y])"
   ]
  },
  {
   "cell_type": "code",
   "execution_count": 48,
   "metadata": {},
   "outputs": [
    {
     "name": "stdout",
     "output_type": "stream",
     "text": [
      "Введите число:1\n",
      "Введите число:2\n",
      "Введите число:0\n",
      "3\n"
     ]
    }
   ],
   "source": [
    "# Задание 2\n",
    "sum_number = 0\n",
    "while True:\n",
    "    number = int(input('Введите число:'))\n",
    "    sum_number += number\n",
    "    if number == 0: \n",
    "        print (sum_number)\n",
    "        break\n",
    "        \n",
    "\n"
   ]
  },
  {
   "cell_type": "code",
   "execution_count": 154,
   "metadata": {},
   "outputs": [
    {
     "name": "stdout",
     "output_type": "stream",
     "text": [
      "Идеальные пары:\n",
      "Alex и Emma\n",
      "Arthur и Kate\n",
      "John и Kira\n",
      "Peter и Liza\n",
      "Richard и Trisha\n"
     ]
    }
   ],
   "source": [
    "# Задание 3\n",
    "boys = ['Peter','Alex','John','Arthur','Richard']\n",
    "girls = ['Kate','Liza','Kira','Emma','Trisha']\n",
    "print ('Идеальные пары:')\n",
    "if len(girls) == len(boys):\n",
    "    new_nameb = sorted (boys)\n",
    "    new_nameg = sorted (girls)\n",
    "    boys_girls = zip(new_nameb , new_nameg)\n",
    "    myboys_girls = list(boys_girls)\n",
    "    for el in myboys_girls:\n",
    "        l = list(el)\n",
    "        print(' и '.join(l))\n",
    "else:\n",
    "    print ('Внимание, кто-то может остаться без пары!')\n"
   ]
  },
  {
   "cell_type": "code",
   "execution_count": 264,
   "metadata": {},
   "outputs": [
    {
     "name": "stdout",
     "output_type": "stream",
     "text": [
      "Средняя температура в странах:\n",
      "Thailand  -  23.9 C\n",
      "Germany  -  13.8 C\n",
      "Russia  -  3.7 C\n",
      "Poland  -  12.0 C\n"
     ]
    }
   ],
   "source": [
    "# Задание 4\n",
    "countries_temperature = [\n",
    "['Thailand', [75.2, 77, 78.8, 73.4, 68, 75.2, 77]],\n",
    "['Germany', [57.2, 55.4, 59, 59, 53.6]],\n",
    "['Russia', [35.6, 37.4, 39.2, 41, 42.8, 39.2, 35.6]],\n",
    "['Poland', [50, 50, 53.6, 57.2, 55.4, 55.4]]\n",
    "]\n",
    "print ('Средняя температура в странах:')\n",
    "for information in countries_temperature:\n",
    "    l=information[1]\n",
    "    a=len(l)\n",
    "    b=sum(l)\n",
    "    c=b/a\n",
    "    cel = 5.0*(c - 32) / 9\n",
    "    print(information[0], ' - ',round(cel,1), \"C\")\n"
   ]
  }
 ],
 "metadata": {
  "kernelspec": {
   "display_name": "Python 3",
   "language": "python",
   "name": "python3"
  },
  "language_info": {
   "codemirror_mode": {
    "name": "ipython",
    "version": 3
   },
   "file_extension": ".py",
   "mimetype": "text/x-python",
   "name": "python",
   "nbconvert_exporter": "python",
   "pygments_lexer": "ipython3",
   "version": "3.8.3"
  }
 },
 "nbformat": 4,
 "nbformat_minor": 4
}
