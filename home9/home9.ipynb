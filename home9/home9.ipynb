{
 "cells": [
  {
   "cell_type": "code",
   "execution_count": 5,
   "metadata": {},
   "outputs": [
    {
     "name": "stdout",
     "output_type": "stream",
     "text": [
      "Результат: Номер А222ВС96 валиден. Регион: 96\n",
      "Результат: Номер не валиден\n"
     ]
    }
   ],
   "source": [
    "# задание 1\n",
    "\n",
    "import re\n",
    "\n",
    "def parse_plate(string):\n",
    "    \n",
    "    res = re.fullmatch(r'([АВЕКМНОРСТУХ]{1}\\d{3}[АВЕКМНОРСТУХ]{2})(\\d{2,3})', string)\n",
    "    \n",
    "    if res:\n",
    "        return res.groups()\n",
    "\n",
    "    return None\n",
    "\n",
    "def validate_plate(string):\n",
    "    \n",
    "    res = parse_plate(string)\n",
    "    if res:\n",
    "        print(f'Результат: Номер {string} валиден. Регион: {res[1]}')\n",
    "    else:\n",
    "        print('Результат: Номер не валиден')\n",
    "\n",
    "\n",
    "validate_plate('А222ВС96')\n",
    "validate_plate('АБ22ВВ193')"
   ]
  },
  {
   "cell_type": "code",
   "execution_count": 8,
   "metadata": {},
   "outputs": [
    {
     "name": "stdout",
     "output_type": "stream",
     "text": [
      "Напишите функцию, которая будет удалять все последовательные повторы слов из заданной строки при помощи регулярных выражений\n"
     ]
    }
   ],
   "source": [
    "# задание 2\n",
    "\n",
    "import re\n",
    "\n",
    "def remove_duplicates(string):\n",
    "\n",
    "    return re.sub(r'(\\b\\w+\\b)(\\s+\\1)+', r'\\1', string)\n",
    "\n",
    "some_string = \"\"\"Напишите функцию функцию, которая будет будет будет будет удалять все все все все последовательные повторы слов из из из из заданной строки строки при помощи регулярных выражений\"\"\"\n",
    "\n",
    "print(remove_duplicates(some_string))"
   ]
  },
  {
   "cell_type": "code",
   "execution_count": 85,
   "metadata": {},
   "outputs": [
    {
     "name": "stdout",
     "output_type": "stream",
     "text": [
      "NFC\n",
      "ИТ\n"
     ]
    }
   ],
   "source": [
    "# задание 3\n",
    "\n",
    "import re\n",
    "\n",
    "def get_acronym(string):\n",
    "\n",
    "    res = re.findall(r'\\b\\w{1}', string)\n",
    "\n",
    "    return ''.join(res).upper()\n",
    "\n",
    "print(get_acronym('Near Field Communication'))\n",
    "print(get_acronym('Информационные технологии'))"
   ]
  },
  {
   "cell_type": "code",
   "execution_count": 86,
   "metadata": {},
   "outputs": [
    {
     "name": "stdout",
     "output_type": "stream",
     "text": [
      "gmail.com: 2\n",
      "test.in: 1\n",
      "ya.ru: 2\n",
      "mail.ru: 1\n"
     ]
    }
   ],
   "source": [
    "# задание 4\n",
    "\n",
    "import re\n",
    "\n",
    "def split_by_domen(emails):\n",
    "    \n",
    "    domens = {}\n",
    "\n",
    "    for email in emails:\n",
    "        domen = re.search(r'@(.+)$', email).group(1)\n",
    "\n",
    "        if domen not in domens:\n",
    "            domens[domen] = 0\n",
    "        domens[domen] += 1\n",
    "        \n",
    "    for key, value in domens.items():\n",
    "        print(f'{key}: {value}')\n",
    "\n",
    "emails = ['test@gmail.com', 'xyz@test.in', 'test@ya.ru', 'xyz@mail.ru', 'xyz@ya.ru', 'xyz@gmail.com']\n",
    "\n",
    "split_by_domen(emails)"
   ]
  },
  {
   "cell_type": "code",
   "execution_count": 52,
   "metadata": {},
   "outputs": [
    {
     "name": "stdout",
     "output_type": "stream",
     "text": [
      "Слов на гласные буквы: 9\n",
      "Слов на согласные буквы: 21\n"
     ]
    }
   ],
   "source": [
    "# задание 5\n",
    "\n",
    "import re\n",
    "\n",
    "def count_letters(string):\n",
    "\n",
    "    vowel = r'\\b[АИОУЫЭЕЁЮЯаиоуыэеёюяAEIOUYaeiouy]{1}'\n",
    "    consonant = r'\\b[БВГДЖЗЙКЛМНПРСТФХЦЧШЩбвгджзйклмнпрстфхцчшщBCDFGHJKLMNPQRSTVWXYZbcdfghjklmnpqrstvwxyz]{1}'\n",
    "    \n",
    "    res1 = re.findall(vowel, string)\n",
    "    res2 = re.findall(consonant, string)\n",
    "    \n",
    "    print(f'Слов на гласные буквы: {len(res1)}')\n",
    "    print(f'Слов на согласные буквы: {len(res2)}')\n",
    "\n",
    "some_text = \"\"\"Эталонной реализацией Python является интерпретатор CPython,\n",
    "    поддерживающий большинство активно используемых платформ.\n",
    "    Он распространяется под свободной лицензией Python Software Foundation License,\n",
    "    позволяющей использовать его без ограничений в любых приложениях, включая проприетарные.\"\"\"\n",
    "\n",
    "count_letters(some_text)"
   ]
  },
  {
   "cell_type": "code",
   "execution_count": 79,
   "metadata": {},
   "outputs": [
    {
     "name": "stdout",
     "output_type": "stream",
     "text": [
      "+7-955-555-55-55\n",
      "+7-955-555-55-55\n",
      "+7-955-555-55-55\n",
      "+7-955-555-55-55\n",
      "Номер не валиден\n",
      "Номер не валиден\n",
      "+7-955-555-55-55\n",
      "+7-955-555-55-55\n",
      "+7-955-555-55-55\n",
      "+7-955-555-55-55\n",
      "Номер не валиден\n",
      "Номер не валиден\n",
      "+7-955-555-55-55\n",
      "+7-955-555-55-55\n",
      "+7-955-555-55-55\n",
      "Номер не валиден\n",
      "+7-955-555-55-55\n"
     ]
    }
   ],
   "source": [
    "# задание 6\n",
    "\n",
    "import re\n",
    "\n",
    "def format_phone(string):\n",
    "    \"\"\"\n",
    "    +7-xxx-xxx-xx-xx\n",
    "    \"\"\"\n",
    "    res = re.fullmatch(r'^(7|8|\\+7)[\\(\\s-]*(\\d{3})[\\)\\s-]*(\\d{3})[\\s-]*(\\d{2})[\\s-]*(\\d{2})', string)\n",
    "    \n",
    "    if not res:\n",
    "        return 'Номер не валиден'\n",
    "\n",
    "    return f'+7-{res.group(2)}-{res.group(3)}-{res.group(4)}-{res.group(5)}'\n",
    "\n",
    "phones = [\n",
    "'+7 955 555-55-55',\n",
    "'8(955)555-55-55',\n",
    "'+7 955 555 55 55',\n",
    "'7(955) 555-55-55',\n",
    "'423-555-55-5555',\n",
    "'123-456-789',\n",
    "'7-955-  555-55-55',\n",
    "'8955 555-55-55',\n",
    "'89555555555',\n",
    "'79555555555',\n",
    "'99555555555',\n",
    "'+8(955)5555555',\n",
    "'+7(955)5555555',\n",
    "'+7(955)55555 55',\n",
    "'+7  955  555  55  55',\n",
    "'+7(955)55--55555',\n",
    "'+7(955)555--5555'\n",
    "]\n",
    "\n",
    "for phone in phones:\n",
    "    print(format_phone(phone))"
   ]
  }
 ],
 "metadata": {
  "kernelspec": {
   "display_name": "Python 3",
   "language": "python",
   "name": "python3"
  },
  "language_info": {
   "codemirror_mode": {
    "name": "ipython",
    "version": 3
   },
   "file_extension": ".py",
   "mimetype": "text/x-python",
   "name": "python",
   "nbconvert_exporter": "python",
   "pygments_lexer": "ipython3",
   "version": "3.8.3"
  }
 },
 "nbformat": 4,
 "nbformat_minor": 4
}
